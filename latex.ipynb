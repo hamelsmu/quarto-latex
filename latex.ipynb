{
 "cells": [
  {
   "cell_type": "markdown",
   "id": "0fcd4c68-c50a-48ae-832f-4f6fe10cc69f",
   "metadata": {},
   "source": [
    "This is testing latex"
   ]
  },
  {
   "cell_type": "code",
   "execution_count": 4,
   "id": "bc1ac285-fa7a-4576-ad14-96bed0c8e41a",
   "metadata": {},
   "outputs": [
    {
     "data": {
      "text/latex": [
       "$$\\mu(x)^2$$"
      ],
      "text/plain": [
       "<IPython.core.display.Latex object>"
      ]
     },
     "metadata": {},
     "output_type": "display_data"
    }
   ],
   "source": [
    "from IPython.display import display, Latex\n",
    "display(Latex(\"$$\\mu(x)^2$$\"))"
   ]
  },
  {
   "cell_type": "markdown",
   "id": "de32e100-fff9-4154-ba08-c118bd496e63",
   "metadata": {},
   "source": [
    "Latex in Markdown"
   ]
  },
  {
   "cell_type": "markdown",
   "id": "da0f47b0-8ecb-4906-92f1-84acd3c2f666",
   "metadata": {},
   "source": [
    "$$\\mu(x)^2$$"
   ]
  }
 ],
 "metadata": {
  "kernelspec": {
   "display_name": "Python 3 (ipykernel)",
   "language": "python",
   "name": "python3"
  },
  "language_info": {
   "codemirror_mode": {
    "name": "ipython",
    "version": 3
   },
   "file_extension": ".py",
   "mimetype": "text/x-python",
   "name": "python",
   "nbconvert_exporter": "python",
   "pygments_lexer": "ipython3",
   "version": "3.9.7"
  }
 },
 "nbformat": 4,
 "nbformat_minor": 5
}
